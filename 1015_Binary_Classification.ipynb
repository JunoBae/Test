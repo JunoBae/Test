{
  "nbformat": 4,
  "nbformat_minor": 0,
  "metadata": {
    "colab": {
      "name": "1015_Binary_Classification.ipynb",
      "provenance": [],
      "include_colab_link": true
    },
    "kernelspec": {
      "name": "python3",
      "display_name": "Python 3"
    }
  },
  "cells": [
    {
      "cell_type": "markdown",
      "metadata": {
        "id": "view-in-github",
        "colab_type": "text"
      },
      "source": [
        "<a href=\"https://colab.research.google.com/github/seudonimo/Test/blob/master/1015_Binary_Classification.ipynb\" target=\"_parent\"><img src=\"https://colab.research.google.com/assets/colab-badge.svg\" alt=\"Open In Colab\"/></a>"
      ]
    },
    {
      "cell_type": "markdown",
      "metadata": {
        "id": "-9BzQhFOMGKq",
        "colab_type": "text"
      },
      "source": [
        "# (Binary) Classifiaction\n",
        "## 활용분야\n",
        "- Spam detection : Spam or Ham\n",
        "- Facebook feed : show or hide\n",
        "- Credit Card Fraudulent Transaction detection : legitimate / fraud\n",
        "\n",
        "Zero, and One encoding\n",
        "- Spam detection : Spam(1) or Ham(0)\n",
        "- Facebook feed : Show(1) or Hide(0)\n",
        "- Credit card transaction : Legitimate(0) or Fraud(1)\n"
      ]
    },
    {
      "cell_type": "code",
      "metadata": {
        "id": "P_Ucx9jTMAlA",
        "colab_type": "code",
        "colab": {}
      },
      "source": [
        ""
      ],
      "execution_count": 0,
      "outputs": []
    }
  ]
}